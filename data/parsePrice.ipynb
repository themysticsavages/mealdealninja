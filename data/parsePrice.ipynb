{
 "cells": [
  {
   "cell_type": "code",
   "execution_count": null,
   "metadata": {},
   "outputs": [],
   "source": [
    "from ast import literal_eval\n",
    "import requests\n",
    "import pandas as pd\n",
    "from bs4 import BeautifulSoup"
   ]
  },
  {
   "cell_type": "code",
   "execution_count": null,
   "metadata": {},
   "outputs": [],
   "source": [
    "df = pd.read_csv(\n",
    "    \"/Users/202837/Documents/Python/Food Price API/newRecipes.csv\", index_col=[0]\n",
    ")"
   ]
  },
  {
   "cell_type": "code",
   "execution_count": null,
   "metadata": {},
   "outputs": [],
   "source": [
    "def get_prices(ing: str) -> list[float]:\n",
    "    \"\"\"Get the prices for each item\"\"\"\n",
    "    ingList = \"\\\\n\".join(literal_eval(ing))\n",
    "\n",
    "    widget = requests.post(\n",
    "        \"https://api.spoonacular.com/recipes/visualizePriceEstimator\",\n",
    "        data={\n",
    "            \"apiKey\": \"17a880d8a40f4451bccdc80f4d3aa38e\",\n",
    "            \"ingredientList\": ingList,\n",
    "            \"servings\": \"1\",\n",
    "            \"defaultCss\": \"false\",\n",
    "        },\n",
    "    )\n",
    "    soup = BeautifulSoup(widget.text, \"html.parser\")\n",
    "    things = soup.select_one(\"#spoonacularPriceBreakdownTable\").find_all(\"div\")\n",
    "    prices = repr(things[3]).split(\"<br/>\")[1:-1]\n",
    "\n",
    "    return prices"
   ]
  },
  {
   "cell_type": "code",
   "execution_count": null,
   "metadata": {},
   "outputs": [],
   "source": [
    "def get_nutrs(ing):\n",
    "    \"\"\"Return the nutrition values for a list of items\"\"\"\n",
    "    ingList = \"\\\\n\".join(literal_eval(ing))\n",
    "    widget = requests.post(\n",
    "        \"https://api.spoonacular.com/recipes/visualizeNutrition\",\n",
    "        data={\n",
    "            \"apiKey\": \"17a880d8a40f4451bccdc80f4d3aa38e\",\n",
    "            \"ingredientList\": ingList,\n",
    "            \"servings\": \"1\",\n",
    "            \"defaultCss\": \"false\",\n",
    "        },\n",
    "    )\n",
    "\n",
    "    soup = BeautifulSoup(widget.text, \"html.parser\")\n",
    "\n",
    "    quickview = soup.find(\"div\", attrs={\"itemprop\": \"nutrition\"})\n",
    "    facts = [element.get_text() for element in quickview][1:]\n",
    "    return {\n",
    "        \"_\".join(stuff[1].split(\" \")).lower(): stuff[0]\n",
    "        for fact in facts\n",
    "        if (stuff := fact.split(\" \", 1))\n",
    "    }"
   ]
  },
  {
   "cell_type": "code",
   "execution_count": null,
   "metadata": {},
   "outputs": [],
   "source": [
    "def sum_price(prices):\n",
    "    \"\"\"Return the total price for a list of prices\"\"\"\n",
    "    pricesList = [float(price[1:]) for price in prices]\n",
    "    totalPrice = sum(pricesList)\n",
    "    return round(totalPrice, 2)"
   ]
  },
  {
   "cell_type": "code",
   "execution_count": null,
   "metadata": {},
   "outputs": [],
   "source": [
    "amount = 10\n",
    "\n",
    "ingredientPrices = df.Ingredients.iloc[:amount].apply(get_prices)\n",
    "ingredientNutrients = df.Ingredients.iloc[:amount].apply(get_nutrs)\n",
    "price = ingredientPrices.apply(sum_price)\n",
    "\n",
    "ingredientPrices.name = \"Ing. Prices\"\n",
    "ingredientNutrients.name = \"Ing. Nutr\"\n",
    "price.name = \"Price\""
   ]
  },
  {
   "cell_type": "code",
   "execution_count": null,
   "metadata": {},
   "outputs": [],
   "source": [
    "outputDf = df.iloc[:amount].join(ingredientPrices).join(price).join(ingredientNutrients)\n",
    "outputDf # "
   ]
  }
 ],
 "metadata": {
  "kernelspec": {
   "display_name": "Python 3",
   "language": "python",
   "name": "python3"
  },
  "language_info": {
   "codemirror_mode": {
    "name": "ipython",
    "version": 3
   },
   "file_extension": ".py",
   "mimetype": "text/x-python",
   "name": "python",
   "nbconvert_exporter": "python",
   "pygments_lexer": "ipython3",
   "version": "3.9.1 (v3.9.1:1e5d33e9b9, Dec  7 2020, 12:44:01) \n[Clang 12.0.0 (clang-1200.0.32.27)]"
  },
  "orig_nbformat": 4,
  "vscode": {
   "interpreter": {
    "hash": "aee8b7b246df8f9039afb4144a1f6fd8d2ca17a180786b69acc140d282b71a49"
   }
  }
 },
 "nbformat": 4,
 "nbformat_minor": 2
}
