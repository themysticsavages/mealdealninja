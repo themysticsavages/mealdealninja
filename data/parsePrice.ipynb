{
 "cells": [
  {
   "cell_type": "code",
   "execution_count": 1,
   "metadata": {},
   "outputs": [],
   "source": [
    "import pandas as pd\n",
    "df = pd.read_csv('/Users/202837/Documents/Python/Food Price API/RecipeNLG_dataset.csv', index_col=[0])"
   ]
  },
  {
   "cell_type": "code",
   "execution_count": 5,
   "metadata": {},
   "outputs": [],
   "source": [
    "import requests\n",
    "import json\n",
    "import re\n",
    "from bs4 import BeautifulSoup"
   ]
  },
  {
   "cell_type": "code",
   "execution_count": 3,
   "metadata": {},
   "outputs": [
    {
     "data": {
      "text/plain": [
       "Index(['title', 'ingredients', 'directions', 'link', 'source', 'NER'], dtype='object')"
      ]
     },
     "execution_count": 3,
     "metadata": {},
     "output_type": "execute_result"
    }
   ],
   "source": [
    "df.columns"
   ]
  },
  {
   "cell_type": "code",
   "execution_count": 6,
   "metadata": {},
   "outputs": [],
   "source": [
    "def getPrice(ing):\n",
    "    ingList = ing.strip('][').replace('\\\"', '').replace(\", \", \"\\\\n\")\n",
    "\n",
    "    widget = requests.post(\n",
    "        \"https://api.spoonacular.com/recipes/visualizePriceEstimator\",\n",
    "        data={\n",
    "            \"apiKey\": \"17a880d8a40f4451bccdc80f4d3aa38e\",\n",
    "            \"ingredientList\": ingList,\n",
    "            \"servings\": \"1\",\n",
    "            \"defaultCss\": \"false\",\n",
    "        },\n",
    "    )\n",
    "    soup = BeautifulSoup(widget.text, \"html.parser\")\n",
    "    things = soup.select_one(\"#spoonacularPriceBreakdownTable\").find_all(\"div\")\n",
    "\n",
    "    items = repr(things[2]).split(\"<br/>\")[1:-1]\n",
    "    prices = repr(things[3]).split(\"<br/>\")[1:-1]\n",
    "\n",
    "    ingredients = dict(zip(items, prices))\n",
    "    return ingredients\n"
   ]
  },
  {
   "cell_type": "code",
   "execution_count": 98,
   "metadata": {},
   "outputs": [],
   "source": [
    "amount = 50\n",
    "prices = df.ingredients.iloc[:amount].apply(getPrice) "
   ]
  },
  {
   "cell_type": "code",
   "execution_count": 99,
   "metadata": {},
   "outputs": [
    {
     "name": "stdout",
     "output_type": "stream",
     "text": [
      "{'Â½ pounds ground beef': '$1.76', '1 package dry a-soup onion soup mix': '$0.01', '1 pound canned tomatoes': '$0.97', '8 ounces canned tomato sauce': '$0.89', '10 ounces frozen mixed vegetables': '$1.11'}\n"
     ]
    }
   ],
   "source": [
    "print(prices.iloc[49])"
   ]
  },
  {
   "cell_type": "code",
   "execution_count": 4,
   "metadata": {},
   "outputs": [
    {
     "ename": "NameError",
     "evalue": "name 'prices' is not defined",
     "output_type": "error",
     "traceback": [
      "\u001b[0;31m---------------------------------------------------------------------------\u001b[0m",
      "\u001b[0;31mNameError\u001b[0m                                 Traceback (most recent call last)",
      "Cell \u001b[0;32mIn[4], line 1\u001b[0m\n\u001b[0;32m----> 1\u001b[0m prices\u001b[39m.\u001b[39mname \u001b[39m=\u001b[39m \u001b[39m\"\u001b[39m\u001b[39mPrice\u001b[39m\u001b[39m\"\u001b[39m\n\u001b[1;32m      2\u001b[0m \u001b[39m# print(prices)\u001b[39;00m\n\u001b[1;32m      3\u001b[0m \u001b[39mprint\u001b[39m(df\u001b[39m.\u001b[39mhead())\n",
      "\u001b[0;31mNameError\u001b[0m: name 'prices' is not defined"
     ]
    }
   ],
   "source": [
    "prices.name = \"Price\"\n",
    "# print(prices)\n",
    "print(df.head())\n",
    "outputDf = df.iloc[:50].assign(ingBreak = prices.values)"
   ]
  },
  {
   "cell_type": "code",
   "execution_count": 105,
   "metadata": {},
   "outputs": [
    {
     "data": {
      "text/plain": [
       "array([{'1 cup firmly brown sugar': '$0.71', 'Â½ cups evaporated milk': '$0.30', 'Â½ teaspoons vanilla': '$0.16', 'Â½ cups broken nuts': '$0.87', '2 Tbsps butter': '$0.16', '3.5 cups shredded bite size rice biscuits': '$2.08'},\n",
       "       {'some cut up': '$0.36', '4 boned chicken breasts': '$8.02', '1 can canned cream of mushroom soup': '$1.31'},\n",
       "       {'32 ounces frozen corn': '$4.21', '8 ounces cream cheese': '$2.35', 'â\\x85\\x93 cups butter': '$0.65', 'Â½ teaspoons garlic powder': '$0.05', 'Â¼ teaspoons pepper': '$0.01'},\n",
       "       {'1 large whole chicken': '$5.06', '21 ounces canned chicken gravy': '$7.89', '10.5 ounces canned cream of mushroom soup': '$1.28', '6 ounces stove top stuffing': '$1.52', '4 ounces shredded cheese': '$1.21'},\n",
       "       {'1 cup peanut butter': '$0.92', 'Â¾ cups graham cracker crumbs': '$0.70', '1 cup butter': '$1.95', '3.5 cups powdered sugar': '$1.35'},\n",
       "       {'6 baking potatoes': '$1.70', '1 pound lean extra ground beef': '$5.13', 'â\\x85\\x94 cups butter': '$0.86', '6 cups milk': '$1.99', 'Â½ teaspoons pepper': '$0.03', '6 ounces shredded cheddar cheese': '$1.82', '12 bacon': '$3.39', '4 green onion': '$0.32', '8 ounces sour carton cream': '$1.54'},\n",
       "       {'1.5 cups sugar': '$0.41', 'Â½ cups butter': '$0.97', '1 egg': '$0.24', '1 cup buttermilk': '$0.49', '2 cups flour': '$0.33', '2 cups rhubarb': '$1.48', 'some cut': '$0.36', '1 teaspoon vanilla': '$0.31'},\n",
       "       {'1 can canned corn': '$1.55', '1 can canned whole kernel corn': '$0.67', '1 egg': '$0.24', '6 teaspoons butter': '$0.26', 'some bell pepper': '$0.37'},\n",
       "       {'1.5 pounds round steak': '$5.13', '1 can canned tomatoes': '$0.88', 'some cut up': '$0.36', 'Â½ cups onions': '$0.18', '1.5 Tbsps worcestershire sauce': '$0.15', '2 green peppers': '$0.73', 'Â¼ cups oil': '$0.15'},\n",
       "       {'1 large container cool whip': '$2.02', '1 large can canned pineapple': '$1.62', '1 can canned condensed milk': '$2.15', '3 lemons': '$1.50', '1 cup pecans': '$3.08', '2 graham cracker crusts': '$0.30'},\n",
       "       {'17 ounces canned sweet dark cherries': '$4.18', 'Â½ cups ginger ale': '$0.08', '6 ounces jell-o cherry flavor gelatin': '$1.82', 'â\\x85\\x9b teaspoons almond extract': '$0.09', '1 cup marshmallows': '$0.30'},\n",
       "       {'1 box powdered sugar': '$1.46', '8 ounces butter': '$1.94', '8 ounces peanut butter': '$0.81', '12 ounces chocolate chips': '$2.31'},\n",
       "       {'some flour': '$0.01'},\n",
       "       {'8 ounces sour cream': '$1.54', '8 ounces cream cheese': '$2.35', '1 pound ground beef': '$3.52', '1 package taco seasoning': '$1.09', 'some shredded lettuce': '$0.33', '1 large diced tomato': '$0.53', '1 medium diced onion': '$0.24', '1 large green diced bell pepper': '$0.50', '1 pound shredded cheddar cheese': '$4.86'},\n",
       "       {'1 can canned pie filling': '$2.54', '1 can canned pineapple': '$1.62', '1 can canned sweetened condensed milk': '$2.15', '8 ounces whipped topping': '$2.02', '2 Tbsps lemon juice': '$0.20'},\n",
       "       {'1 baked pie shell': '$1.82', '1 quart strawberries': '$8.45', '4 Tbsps cornstarch': '$0.14', '1 cup sugar': '$0.28', '4 Tbsps strawberry jello': '$0.30'},\n",
       "       {'Â½ packages chocolate fudge cake mix without pudding': '$0.77', 'Â½ packages white cake mix without pudding': '$0.92', 'Â¼ cups wesson oil': '$0.15'},\n",
       "       {'1.5 pounds broccoli': '$1.50', '10 slices bacon': '$2.83', '5 green onions': '$0.40', 'Â¼ cups red onion': '$0.13', 'Â½ cups raisins': '$0.49', '1 cup mayonnaise': '$1.14', '2 Tbsps vinegar': '$0.09', 'Â¼ cups sugar': '$0.07'},\n",
       "       {'1 pound frozen strawberries in juice': '$0.62', '1 small can canned pineapple': '$1.62', '3 bananas': '$0.47', '1 cup pecans': '$3.39', '1 large strawberry jell-o': '$0.01', '1 pint sour cream': '$3.21'},\n",
       "       {'Â¾ cups sugar': '$0.21', 'Â½ cups shortening': '$0.81', '1.5 cups applesauce': '$1.12', '1 teaspoon each: cinnamon': '$0.11', '1 clove nutmeg': '$0.07', '2 cups flour': '$0.33', '1 cup raisins': '$0.98', '1 cup nuts': '$1.75'},\n",
       "       {'1 cup sugar': '$0.28', 'Â½ cups shortening': '$0.81', '2 eggs': '$0.48', '2 cups flour': '$0.33', 'Â¼ cups nuts': '$0.44', '2 over-ripe bananas': '$0.31'},\n",
       "       {\"1 package devil's food cake mix\": '$1.54', '1 package chocolate fudge pudding mix': '$0.01', '8 ounces sour cream': '$1.54', 'Â½ cups wesson oil': '$0.30', '4 eggs': '$0.96', '6 ounces frango mints': '$1.76'},\n",
       "       {'2 cups up': '$0.34', '1 cup vegetable oil': '$0.87', '1 cup kikkoman soy sauce': '$1.57'},\n",
       "       {'Â½ bushel tomatoes': '$0.18', '1 cup oil': '$0.61', 'Â¼ cups garlic': '$0.76', '6 cans canned tomato paste': '$5.28', '3 sweet peppers': '$1.09', '1.5 cups sugar': '$0.41', 'Â½ cups salt': '$0.16', '1 Tbsp sweet basil': '$0.25', '2 Tbsps oregano': '$0.52', '1 teaspoon italian seasoning': '$0.09'},\n",
       "       {'1.5 pounds ground beef': '$5.28', '1 cup tomato juice': '$0.33', 'Â¾ cups oats': '$0.24', '1 egg': '$0.24', 'Â¼ cups onion': '$0.09', 'Â¼ teaspoons pepper': '$0.01'},\n",
       "       {'2 pounds round steak': '$6.83', 'Â½ teaspoons black ground pepper': '$0.03', '1 teaspoon white ground pepper': '$0.26', 'Â½ cups vegetable oil': '$0.44', '2 bell peppers': '$1.20', '1 cup beef stock': '$0.77', '2 teaspoons salt': '$0.01', '1 teaspoon red ground pepper': '$0.21', 'some flour': '$0.01', '3 mediums onions': '$0.73'},\n",
       "       {'2 pounds round steak': '$6.83', '2 Tbsps cooking oil': '$0.08', '15 ounces canned tomato sauce': '$1.67', '2 Tbsps brown sugar': '$0.08', '1 Tbsp cooked mustard': '$0.07', '1 tablespoon worcestershire sauce': '$0.10', '1 medium onion': '$0.24'},\n",
       "       {'14 ounces canned sweetened condensed milk': '$2.15', '12 ounces semi-sweet chocolate chips': '$7.65', '1 ounce unsweetened sq. chocolate': '$0.58', '1.5 cups nuts': '$2.62', '1 teaspoon vanilla': '$0.31'},\n",
       "       {'1 pound ground beef': '$3.52', '1 package taco seasoning': '$1.09', '1 onion': '$0.24', '1 C salsa': '$1.02', '4 green peppers': '$1.46', '1 medium tomato': '$0.36', 'Â½ Cs cheddar cheese': '$0.61', 'Â½ Cs sour cream': '$0.78'},\n",
       "       {'1 cup milk': '$0.33', '2 Tbsps sugar': '$0.03', '1 package dry yeast': '$0.27', '1 Tbsp salt': '$0.02', '3 Tbsps crisco oil': '$0.11', '2 cups plain flour': '$0.33'},\n",
       "       {'1 large can canned diced pineapple': '$1.62', '1 quart fresh strawberries': '$8.45', '2 red apples': '$1.61', '2 yellow apples': '$1.21', '4 larges bananas': '$0.73', '1 pound white grapes': '$2.01', '1 pound purple grapes': '$2.01'},\n",
       "       {'Â½ cups oil': '$0.30', 'â\\x85\\x93 cups red vinegar': '$0.26', '2 Tbsps oregano': '$0.52', '2 Tbsps garlic salt': '$0.24'},\n",
       "       {'2 cans canned cherry pie mix': '$7.29', '1 box white deluxe cake mix': '$1.85', '1 stick butter': '$0.97', '1 cup ground nuts': '$1.75'},\n",
       "       {'3 eggs': '$0.72', 'Â¼ teaspoons pepper': '$0.01', '2 cups half and half': '$1.31', '3 cups potatoes': '$0.84', '1 cup cheddar cheese': '$1.21', 'â\\x85\\x93 cups green onions': '$0.22'},\n",
       "       {'1 box macaroni and cheese': '$1.50', '1 can canned tuna': '$1.09', '1 small jar pimentos': '$1.61', '1 medium onion': '$0.24'},\n",
       "       {'2 cans canned jars artichoke hearts': '$3.60', '1 cup mayonnaise': '$1.14', '1 cup parmesan cheese': '$2.11'},\n",
       "       {'16 ounces sour cream': '$3.08', '10 ounces frozen broccoli': '$0.62', '4 ounces cheddar cheese': '$1.21'},\n",
       "       {'1 pound spaghetti': '$0.97', '1 bottle 1 bottle zesty italian dressing': '$1.69'},\n",
       "       {'16 ounces canned pear halves': '$1.50', '3 ounces lime gelatin': '$0.91', '8 ounces cream cheese': '$2.35', '8 ounces carton lemon yogurt': '$1.05'},\n",
       "       {'7 pounds watermelon rind': '$24.63', '7 cups sugar': '$1.93', '2 cups apple vinegar': '$1.78'},\n",
       "       {'3 pounds chicken': '$4.34', '4 mediums potatoes': '$1.14', '2 mediums onions': '$0.48', '16 ounces canned creamed corn': '$1.46', '16 ounces canned english peas': '$0.97', '16 ounces canned field peas': '$1.78', '16 ounces canned butter beans': '$1.30', '16 ounces canned tomatoes': '$0.97', '46 ounces canned tomato juice': '$2.79', '1 Tbsp black pepper': '$0.18', '1 Tbsp salt': '$0.02', '1 Tbsp sugar': '$0.02'},\n",
       "       {'3 Tbsps butter': '$0.24', 'Â½ cups granulated sugar': '$0.14', '1 egg': '$0.24', '1 cup flour': '$0.17', '1.25 teaspoons baking powder': '$0.04', 'â\\x85\\x93 cups milk': '$0.11', 'Â¼ teaspoons vanilla': '$0.08', 'â\\x85\\x93 cups brown sugar': '$0.24', 'Â½ teaspoons cinnamon': '$0.05', '2 Tbsps butter': '$0.16'},\n",
       "       {'5 cups flour': '$0.83', '3 Tbsps sugar': '$0.05', '4 teaspoons baking powder': '$0.13', '1.5 packages dry yeast': '$0.41', '2 cups buttermilk': '$0.98', '1.5 sticks margarine': '$0.97'},\n",
       "       {'8 marshmallows': '$0.34', '2 Tbsps margarine': '$0.16', 'Â¼ cups peppermint candy': '$0.74', '1 can canned crescent rolls': '$3.31'},\n",
       "       {'1 box yellow cake mix': '$2.03', 'Â¼ cups brown sugar': '$0.18', 'Â½ cups butter': '$0.97', '2 eggs': '$0.48', 'Â½ cups nuts': '$0.87'},\n",
       "       {'1 cup flour': '$0.17', '1 cup sugar': '$0.28', '4 eggs': '$0.96'},\n",
       "       {'3 cups self rising flour': '$0.54', '12 ounces canned beer': '$1.84', '1 Tbsp sugar': '$0.02'},\n",
       "       {'Â¼ cups margarine': '$0.32', 'Â¼ cups onion': '$0.09', 'some celery': '$0.41', 'Â¼ cups flour': '$0.04', 'â\\x85\\x9b teaspoons curry powder': '$0.01', '1 can canned mushrooms': '$1.23', '1 can canned cream of celery soup': '$1.96', '1 chicken': '$5.06', 'some shredded monterey jack cheese': '$0.01'},\n",
       "       {'1.5 cups flour': '$0.25', 'Â½ teaspoons baking powder': '$0.02', 'Â½ cups butter': '$0.97', 'â\\x85\\x94 cups sugar': '$0.18', '3 egg yolks': '$0.72', '1 teaspoon vanilla': '$0.31', 'some multi-colored candies': '$0.31'},\n",
       "       {'Â½ pounds ground beef': '$1.76', '1 package dry a-soup onion soup mix': '$0.01', '1 pound canned tomatoes': '$0.97', '8 ounces canned tomato sauce': '$0.89', '10 ounces frozen mixed vegetables': '$1.11'}],\n",
       "      dtype=object)"
      ]
     },
     "execution_count": 105,
     "metadata": {},
     "output_type": "execute_result"
    }
   ],
   "source": [
    "pd.DataFrame(prices.values[0].keys(), prices.values[0].values)"
   ]
  },
  {
   "cell_type": "code",
   "execution_count": 134,
   "metadata": {},
   "outputs": [
    {
     "data": {
      "text/html": [
       "<div>\n",
       "<style scoped>\n",
       "    .dataframe tbody tr th:only-of-type {\n",
       "        vertical-align: middle;\n",
       "    }\n",
       "\n",
       "    .dataframe tbody tr th {\n",
       "        vertical-align: top;\n",
       "    }\n",
       "\n",
       "    .dataframe thead th {\n",
       "        text-align: right;\n",
       "    }\n",
       "</style>\n",
       "<table border=\"1\" class=\"dataframe\">\n",
       "  <thead>\n",
       "    <tr style=\"text-align: right;\">\n",
       "      <th></th>\n",
       "      <th>Unnamed: 0</th>\n",
       "      <th>title</th>\n",
       "      <th>ingredients</th>\n",
       "      <th>directions</th>\n",
       "      <th>link</th>\n",
       "      <th>source</th>\n",
       "      <th>NER</th>\n",
       "      <th>ingBreak</th>\n",
       "    </tr>\n",
       "  </thead>\n",
       "  <tbody>\n",
       "    <tr>\n",
       "      <th>0</th>\n",
       "      <td>0</td>\n",
       "      <td>No-Bake Nut Cookies</td>\n",
       "      <td>[\"1 c. firmly packed brown sugar\", \"1/2 c. eva...</td>\n",
       "      <td>[\"In a heavy 2-quart saucepan, mix brown sugar...</td>\n",
       "      <td>www.cookbooks.com/Recipe-Details.aspx?id=44874</td>\n",
       "      <td>Gathered</td>\n",
       "      <td>[\"brown sugar\", \"milk\", \"vanilla\", \"nuts\", \"bu...</td>\n",
       "      <td>{'1 cup firmly brown sugar': '$0.71', 'Â½ cups...</td>\n",
       "    </tr>\n",
       "    <tr>\n",
       "      <th>1</th>\n",
       "      <td>1</td>\n",
       "      <td>Jewell Ball'S Chicken</td>\n",
       "      <td>[\"1 small jar chipped beef, cut up\", \"4 boned ...</td>\n",
       "      <td>[\"Place chipped beef on bottom of baking dish....</td>\n",
       "      <td>www.cookbooks.com/Recipe-Details.aspx?id=699419</td>\n",
       "      <td>Gathered</td>\n",
       "      <td>[\"beef\", \"chicken breasts\", \"cream of mushroom...</td>\n",
       "      <td>{'some cut up': '$0.36', '4 boned chicken brea...</td>\n",
       "    </tr>\n",
       "    <tr>\n",
       "      <th>2</th>\n",
       "      <td>2</td>\n",
       "      <td>Creamy Corn</td>\n",
       "      <td>[\"2 (16 oz.) pkg. frozen corn\", \"1 (8 oz.) pkg...</td>\n",
       "      <td>[\"In a slow cooker, combine all ingredients. C...</td>\n",
       "      <td>www.cookbooks.com/Recipe-Details.aspx?id=10570</td>\n",
       "      <td>Gathered</td>\n",
       "      <td>[\"frozen corn\", \"cream cheese\", \"butter\", \"gar...</td>\n",
       "      <td>{'32 ounces frozen corn': '$4.21', '8 ounces c...</td>\n",
       "    </tr>\n",
       "    <tr>\n",
       "      <th>3</th>\n",
       "      <td>3</td>\n",
       "      <td>Chicken Funny</td>\n",
       "      <td>[\"1 large whole chicken\", \"2 (10 1/2 oz.) cans...</td>\n",
       "      <td>[\"Boil and debone chicken.\", \"Put bite size pi...</td>\n",
       "      <td>www.cookbooks.com/Recipe-Details.aspx?id=897570</td>\n",
       "      <td>Gathered</td>\n",
       "      <td>[\"chicken\", \"chicken gravy\", \"cream of mushroo...</td>\n",
       "      <td>{'1 large whole chicken': '$5.06', '21 ounces ...</td>\n",
       "    </tr>\n",
       "    <tr>\n",
       "      <th>4</th>\n",
       "      <td>4</td>\n",
       "      <td>Reeses Cups(Candy)</td>\n",
       "      <td>[\"1 c. peanut butter\", \"3/4 c. graham cracker ...</td>\n",
       "      <td>[\"Combine first four ingredients and press in ...</td>\n",
       "      <td>www.cookbooks.com/Recipe-Details.aspx?id=659239</td>\n",
       "      <td>Gathered</td>\n",
       "      <td>[\"peanut butter\", \"graham cracker crumbs\", \"bu...</td>\n",
       "      <td>{'1 cup peanut butter': '$0.92', 'Â¾ cups grah...</td>\n",
       "    </tr>\n",
       "  </tbody>\n",
       "</table>\n",
       "</div>"
      ],
      "text/plain": [
       "   Unnamed: 0                  title  \\\n",
       "0           0    No-Bake Nut Cookies   \n",
       "1           1  Jewell Ball'S Chicken   \n",
       "2           2            Creamy Corn   \n",
       "3           3          Chicken Funny   \n",
       "4           4   Reeses Cups(Candy)     \n",
       "\n",
       "                                         ingredients  \\\n",
       "0  [\"1 c. firmly packed brown sugar\", \"1/2 c. eva...   \n",
       "1  [\"1 small jar chipped beef, cut up\", \"4 boned ...   \n",
       "2  [\"2 (16 oz.) pkg. frozen corn\", \"1 (8 oz.) pkg...   \n",
       "3  [\"1 large whole chicken\", \"2 (10 1/2 oz.) cans...   \n",
       "4  [\"1 c. peanut butter\", \"3/4 c. graham cracker ...   \n",
       "\n",
       "                                          directions  \\\n",
       "0  [\"In a heavy 2-quart saucepan, mix brown sugar...   \n",
       "1  [\"Place chipped beef on bottom of baking dish....   \n",
       "2  [\"In a slow cooker, combine all ingredients. C...   \n",
       "3  [\"Boil and debone chicken.\", \"Put bite size pi...   \n",
       "4  [\"Combine first four ingredients and press in ...   \n",
       "\n",
       "                                              link    source  \\\n",
       "0   www.cookbooks.com/Recipe-Details.aspx?id=44874  Gathered   \n",
       "1  www.cookbooks.com/Recipe-Details.aspx?id=699419  Gathered   \n",
       "2   www.cookbooks.com/Recipe-Details.aspx?id=10570  Gathered   \n",
       "3  www.cookbooks.com/Recipe-Details.aspx?id=897570  Gathered   \n",
       "4  www.cookbooks.com/Recipe-Details.aspx?id=659239  Gathered   \n",
       "\n",
       "                                                 NER  \\\n",
       "0  [\"brown sugar\", \"milk\", \"vanilla\", \"nuts\", \"bu...   \n",
       "1  [\"beef\", \"chicken breasts\", \"cream of mushroom...   \n",
       "2  [\"frozen corn\", \"cream cheese\", \"butter\", \"gar...   \n",
       "3  [\"chicken\", \"chicken gravy\", \"cream of mushroo...   \n",
       "4  [\"peanut butter\", \"graham cracker crumbs\", \"bu...   \n",
       "\n",
       "                                            ingBreak  \n",
       "0  {'1 cup firmly brown sugar': '$0.71', 'Â½ cups...  \n",
       "1  {'some cut up': '$0.36', '4 boned chicken brea...  \n",
       "2  {'32 ounces frozen corn': '$4.21', '8 ounces c...  \n",
       "3  {'1 large whole chicken': '$5.06', '21 ounces ...  \n",
       "4  {'1 cup peanut butter': '$0.92', 'Â¾ cups grah...  "
      ]
     },
     "execution_count": 134,
     "metadata": {},
     "output_type": "execute_result"
    }
   ],
   "source": [
    "outputDf.head()"
   ]
  }
 ],
 "metadata": {
  "kernelspec": {
   "display_name": "Python 3",
   "language": "python",
   "name": "python3"
  },
  "language_info": {
   "codemirror_mode": {
    "name": "ipython",
    "version": 3
   },
   "file_extension": ".py",
   "mimetype": "text/x-python",
   "name": "python",
   "nbconvert_exporter": "python",
   "pygments_lexer": "ipython3",
   "version": "3.9.1 (v3.9.1:1e5d33e9b9, Dec  7 2020, 12:44:01) \n[Clang 12.0.0 (clang-1200.0.32.27)]"
  },
  "orig_nbformat": 4,
  "vscode": {
   "interpreter": {
    "hash": "aee8b7b246df8f9039afb4144a1f6fd8d2ca17a180786b69acc140d282b71a49"
   }
  }
 },
 "nbformat": 4,
 "nbformat_minor": 2
}
